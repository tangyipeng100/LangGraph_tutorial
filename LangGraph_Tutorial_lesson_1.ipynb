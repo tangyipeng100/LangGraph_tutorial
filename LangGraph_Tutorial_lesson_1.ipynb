{
 "cells": [
  {
   "cell_type": "markdown",
   "source": [
    "[![Open In Colab](https://colab.research.google.com/assets/colab-badge.svg)](https://colab.research.google.com/drive/1fb_yrVhmkaiosPHw341naoLPlmllVSx3)\n",
    "### 配置dashscope，langchain，langgraph环境"
   ],
   "metadata": {
    "collapsed": false
   }
  },
  {
   "cell_type": "code",
   "execution_count": null,
   "outputs": [],
   "source": [
    "! pip install dashscope langchain langgraph\n",
    "! pip install langchain-community langchain-core\n",
    "! pip install httpx"
   ],
   "metadata": {
    "collapsed": false
   }
  },
  {
   "cell_type": "markdown",
   "source": [
    "### 初始化模型和`MessageGraph`"
   ],
   "metadata": {
    "collapsed": false
   }
  },
  {
   "cell_type": "code",
   "execution_count": 2,
   "outputs": [],
   "source": [
    "from langchain_community.llms import Tongyi\n",
    "from langchain_core.messages import HumanMessage\n",
    "from langgraph.graph import END, MessageGraph\n",
    "import os\n",
    "os.environ[\"DASHSCOPE_API_KEY\"] = 'Your dashscope key' # 替换成自己的dashscope key， 格式sk-xx...，依据教程提供网址申请自己的api key\n",
    "\n",
    "model = Tongyi()\n",
    "graph = MessageGraph()"
   ],
   "metadata": {
    "collapsed": false
   }
  },
  {
   "cell_type": "markdown",
   "source": [
    "### 添加节点，边，和入口"
   ],
   "metadata": {
    "collapsed": false
   }
  },
  {
   "cell_type": "code",
   "execution_count": 3,
   "outputs": [],
   "source": [
    "graph.add_node(\"oracle\", model)\n",
    "graph.add_edge(\"oracle\", END)\n",
    "\n",
    "graph.set_entry_point(\"oracle\")"
   ],
   "metadata": {
    "collapsed": false
   }
  },
  {
   "cell_type": "markdown",
   "source": [
    "### 编译图并输出"
   ],
   "metadata": {
    "collapsed": false
   }
  },
  {
   "cell_type": "code",
   "execution_count": 4,
   "outputs": [
    {
     "name": "stdout",
     "output_type": "stream",
     "text": [
      "[HumanMessage(content='What is 1 + 1?', id='c04b408f-a034-4ffb-9f58-de8a4348791f'), HumanMessage(content='1 + 1 is equal to 2.', id='3c614f48-a3c2-4f19-846d-eac26373a05f')]\n"
     ]
    }
   ],
   "source": [
    "runnable = graph.compile()\n",
    "print(runnable.invoke(HumanMessage(\"What is 1 + 1?\")))#输出：[HumanMessage(content='What is 1 + 1?', id='3adc686d-dac0-43cb-9022-4c8644e61866'), HumanMessage(content='1 + 1 is equal to 2.', id='1d2affcc-b157-48f7-a621-eabd3bf97270')]"
   ],
   "metadata": {
    "collapsed": false
   }
  }
 ],
 "metadata": {
  "kernelspec": {
   "display_name": "Python 3",
   "language": "python",
   "name": "python3"
  },
  "language_info": {
   "codemirror_mode": {
    "name": "ipython",
    "version": 2
   },
   "file_extension": ".py",
   "mimetype": "text/x-python",
   "name": "python",
   "nbconvert_exporter": "python",
   "pygments_lexer": "ipython2",
   "version": "2.7.6"
  }
 },
 "nbformat": 4,
 "nbformat_minor": 0
}
